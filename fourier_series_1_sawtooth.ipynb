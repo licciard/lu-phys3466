{
  "nbformat": 4,
  "nbformat_minor": 0,
  "metadata": {
    "colab": {
      "name": "fourier_series_1_sawtooth",
      "provenance": [],
      "authorship_tag": "ABX9TyMnGfbDaIsB6XTC81JqMXom",
      "include_colab_link": true
    },
    "kernelspec": {
      "name": "python3",
      "display_name": "Python 3"
    }
  },
  "cells": [
    {
      "cell_type": "markdown",
      "metadata": {
        "id": "view-in-github",
        "colab_type": "text"
      },
      "source": [
        "<a href=\"https://colab.research.google.com/github/licciard/lu-phys3466/blob/main/fourier_series_1_sawtooth.ipynb\" target=\"_parent\"><img src=\"https://colab.research.google.com/assets/colab-badge.svg\" alt=\"Open In Colab\"/></a>"
      ]
    },
    {
      "cell_type": "markdown",
      "metadata": {
        "id": "FJcDC1tMvZtw"
      },
      "source": [
        "**In this exercise we will look at the series representation for the sawtooth function and discuss the Gibbs-Wilbraham effect.**\n"
      ]
    },
    {
      "cell_type": "markdown",
      "metadata": {
        "id": "DEans9g8xgEG"
      },
      "source": [
        "We consider the periodic extension of the function:\n",
        "$$f(x) = \\begin{cases}\n",
        "-1, & -\\pi < x < 0 \\\\\n",
        "+1, & 0 < x < \\pi\n",
        "\\end{cases}$$ as discussed in class."
      ]
    },
    {
      "cell_type": "code",
      "metadata": {
        "id": "X08dvF5e_z70"
      },
      "source": [
        "# Python modules used in this notebook\n",
        "import numpy as np\n",
        "import matplotlib.pyplot as plt\n",
        "import sympy  # for symbolic math and arbitrary precision calculations "
      ],
      "execution_count": null,
      "outputs": []
    },
    {
      "cell_type": "markdown",
      "metadata": {
        "id": "Lg57Rm-jxtWq"
      },
      "source": [
        "Let's draw a plot of $f(x)$. For numerical calculations, we first need to define the values of $x$ for which we will calculate the function. "
      ]
    },
    {
      "cell_type": "markdown",
      "metadata": {
        "id": "8iKgU531yGeS"
      },
      "source": [
        "**Activity 1. Define an interval for $x$ and the number of points you want to calculate.** *(I suggest you start with about 100 points and increase as needed.)*"
      ]
    },
    {
      "cell_type": "code",
      "metadata": {
        "id": "TkHWaLvz_Vyg"
      },
      "source": [
        "xmin = ? \n",
        "xmax = ? \n",
        "npoints = ?\n",
        "\n",
        "x = np.linspace(xmin, xmax, npoints)"
      ],
      "execution_count": null,
      "outputs": []
    },
    {
      "cell_type": "markdown",
      "metadata": {
        "id": "TmcgI5tNOgZp"
      },
      "source": [
        "**Activity 2. Run the code below to see a plot of $f(x)$. Note that it is not periodic. Uncomment out the lines in the function to obtain the periodic function and understand why the additional lines are needed.**"
      ]
    },
    {
      "cell_type": "code",
      "metadata": {
        "id": "7uahD35N_659"
      },
      "source": [
        "def f(xi):\n",
        "  #xp = (xi+np.pi)//(2*np.pi) #<-- uncomment out after you run this code once\n",
        "  #return xi - xp*2*np.pi #<-- uncomment out after you run this code once\n",
        "  return xi\n",
        "\n",
        "plt.figure(figsize=(10,5))\n",
        "plt.plot(x,f(x),c='b')\n",
        "plt.xlabel('x'); plt.ylabel('y');\n",
        "plt.ylim([-4.1,4.1])\n",
        "plt.show()\n"
      ],
      "execution_count": null,
      "outputs": []
    },
    {
      "cell_type": "markdown",
      "metadata": {
        "id": "-9u_9ee1PYQf"
      },
      "source": [
        "**Activity 3. Write the Fourier coefficients $a_n$ and $b_n$ found in class.**"
      ]
    },
    {
      "cell_type": "code",
      "metadata": {
        "id": "dWZBVsPw__Dq"
      },
      "source": [
        "def fourier(xi,Nmax = 5):\n",
        "  a_0 = ?\n",
        "  tot = a_0/2\n",
        "  for n in range(1,Nmax+1):\n",
        "    a_n = ?\n",
        "    b_n = ?\n",
        "    tot += a_n * np.cos(n*xi) + b_n * np.sin(n*xi)\n",
        "  return tot"
      ],
      "execution_count": null,
      "outputs": []
    },
    {
      "cell_type": "markdown",
      "metadata": {
        "id": "fC44BJWKPxvx"
      },
      "source": [
        "**Activity 4. Draw a plot comparing $f(x)$ and its Fourier expansion for $N = 1,3,25$.**"
      ]
    },
    {
      "cell_type": "code",
      "metadata": {
        "id": "8B9ZasFCC4bv"
      },
      "source": [
        "plt.figure(figsize=(10,5))\n",
        "plt.plot(x,f(x),c='k')\n",
        "plt.plot(x,fourier(x,1),c='r')\n",
        "plt.xlabel('x'); plt.ylabel('y');\n",
        "plt.ylim([-4.25,4.25])\n",
        "plt.show()"
      ],
      "execution_count": null,
      "outputs": []
    },
    {
      "cell_type": "markdown",
      "metadata": {
        "id": "JxQVPm_iQTuY"
      },
      "source": [
        "Python provides a very nice module called **sympy** that allows us to solve symbolic math expressions. \n",
        "\n",
        "Let's check some of its features regarding Fourier series.\n",
        "\n",
        "In sympy we need to define our variables using the function \"Symbol\". To distinguish with our previous variable $x$, here we will call our function argument of $t$. "
      ]
    },
    {
      "cell_type": "markdown",
      "metadata": {
        "id": "I2jJ842rRHGZ"
      },
      "source": [
        "**Activity 5. Run the code below to define our symbolic variable $t$ and $f(t)$. Later we will define the range where we want to focus the Fourier series, so we do not need to make it periodic here. In fact, calculations are faster this way.**"
      ]
    },
    {
      "cell_type": "code",
      "metadata": {
        "id": "xh32M7XSEUZX"
      },
      "source": [
        "def linf(t):\n",
        "    return t \n",
        "\n",
        "t = sympy.Symbol('t', real=True)\n",
        "p1 = sympy.plot(linf(t), (t, -10, 10), show=False)\n",
        "p1.show()"
      ],
      "execution_count": null,
      "outputs": []
    },
    {
      "cell_type": "markdown",
      "metadata": {
        "id": "tV0UEVmGSWX9"
      },
      "source": [
        "Fourier series can be expressed using complex numbers as:\n",
        "$$f(t) = \\sum_{n=-\\infty}^{\\infty} c_n \\, e^{i \\, n \\, t}$$\n",
        "where the complex coefficients can be calculated in terms of the real coefficients $a_n$ and $b_n$, which can be expressed by:\n",
        "$$c_n = \\int_{-\\pi}^{\\pi} f(t)\\, e^{-i \\, n \\, t} \\, dt$$"
      ]
    },
    {
      "cell_type": "markdown",
      "metadata": {
        "id": "HdszDFu6TT-Y"
      },
      "source": [
        "**Activity 6. Run the code below for $N=1,2,5$ and others to see sympy resolving the Fourier expansion for $f(t)$ using the formulas above. Compare the analytical expression obtained here with the one resolved in class.**"
      ]
    },
    {
      "cell_type": "code",
      "metadata": {
        "id": "AtiEk7dkE0lf"
      },
      "source": [
        "def c(n):\n",
        "    return (sympy.integrate(linf(t)*sympy.exp(-sympy.I * n * t),(t, -sympy.pi, sympy.pi))/(2*sympy.pi))\n",
        "\n",
        "def S(N):\n",
        "    return sum(c(n)*sympy.exp(sympy.I *n*t) for n in range(-N, N+1)).expand(complex=True).simplify()\n",
        "\n",
        "N = 2\n",
        "\n",
        "analytic_approx = S(N).expand()\n",
        "print(sympy.pretty(analytic_approx))\n",
        "\n",
        "interval = (t, -10, 10)\n",
        "p1 = sympy.plot(linf(t), interval, show=False)\n",
        "p2 = sympy.plot(analytic_approx, interval, show=False)\n",
        "p2[0].line_color = 'red'\n",
        "p1.extend(p2)\n",
        "p1.show()"
      ],
      "execution_count": null,
      "outputs": []
    },
    {
      "cell_type": "markdown",
      "metadata": {
        "id": "en_bC2Y4U8TF"
      },
      "source": [
        "**Activity 7. Sympy also offers symbolic derivation and root solution of equations. Run the code below to find the derivative of the Fourier series. (Keep it at $N=2$ for simplicity and best visualization.) Then the code finds all the roots of the derivative $f_N^{'}(t) = 0$. What points are these in the above plot?**"
      ]
    },
    {
      "cell_type": "code",
      "metadata": {
        "id": "MZhosiOUHnTr"
      },
      "source": [
        "fd = sympy.diff(analytic_approx)\n",
        "print(\"derivative: \",fd)\n",
        "dRoots = sympy.solveset(fd, t)\n",
        "dRoots"
      ],
      "execution_count": null,
      "outputs": []
    },
    {
      "cell_type": "markdown",
      "metadata": {
        "id": "QGMxrLyoVpiC"
      },
      "source": [
        "If you want to select just a few of the roots, you can use the sympy function called **Intersection**."
      ]
    },
    {
      "cell_type": "code",
      "metadata": {
        "id": "AFPzVFayIVGN"
      },
      "source": [
        "intersection = [analytic_approx.subs(t,_) for _ in sympy.Intersection(dRoots,sympy.Interval(-sympy.pi,sympy.pi))]\n",
        "intersection"
      ],
      "execution_count": null,
      "outputs": []
    },
    {
      "cell_type": "markdown",
      "metadata": {
        "id": "3vkNLrjmWaAv"
      },
      "source": [
        "The Gibbs-Wilbraham phenomenon involves both the fact that Fourier sums overshoot at a jump discontinuity, and that this overshoot does not die out as more terms are added to the sum. [Wikipedia]"
      ]
    },
    {
      "cell_type": "markdown",
      "metadata": {
        "id": "Fr6aXqBwW0Rd"
      },
      "source": [
        "We can calculate the maximum point of the overshoot in the limit for large $N$ to be $\\approx 8.949\\%$. In this activity we will calculate the overshoot as a function of $N$ for the sawtooth function resolved above."
      ]
    },
    {
      "cell_type": "markdown",
      "metadata": {
        "id": "0R8qdycAXQTC"
      },
      "source": [
        "**Activity 8. Choose a value for $N_{max}$ to calculate the overshoot differences, and play with the plot limits to see if the difference indeed goes to near $9\\%$. If you do not see a nice plot, what do you think is happening? Recall for what values of $x$ you calculate the functions and tune it to become more precise.**"
      ]
    },
    {
      "cell_type": "code",
      "metadata": {
        "id": "0QTwvKenIpMK"
      },
      "source": [
        "Nmax = ?\n",
        "ymin = 0\n",
        "ymax = 10\n",
        "\n",
        "ns = np.arange(1,Nmax)\n",
        "diff = []\n",
        "for n in ns:\n",
        "  yf  = fourier(x,n)\n",
        "  diff.append((max(yf)-np.pi)*100/(2*np.pi))"
      ],
      "execution_count": null,
      "outputs": []
    },
    {
      "cell_type": "code",
      "metadata": {
        "id": "fC1psHkvXaS-"
      },
      "source": [
        "plt.figure(figsize=(7,7))\n",
        "plt.plot(ns,diff,c='b')\n",
        "plt.xlabel('N'); plt.ylabel('difference (%)');\n",
        "plt.ylim([ymin,ymax])\n",
        "plt.show()"
      ],
      "execution_count": null,
      "outputs": []
    },
    {
      "cell_type": "markdown",
      "metadata": {
        "id": "suolYf73Ymxk"
      },
      "source": [
        "**Activity 9 - Challenge: Obtain the plot above using the sympy symbolic approach to find the maximum point of the Fourier expansion. (This method is exact but takes a lot longer than the numerical approach proposed above.)**"
      ]
    },
    {
      "cell_type": "code",
      "metadata": {
        "id": "wb5WnF1KXfAg"
      },
      "source": [
        "# Challenge!"
      ],
      "execution_count": null,
      "outputs": []
    }
  ]
}