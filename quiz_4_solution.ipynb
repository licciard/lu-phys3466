{
  "nbformat": 4,
  "nbformat_minor": 0,
  "metadata": {
    "colab": {
      "name": "quiz_4_solution",
      "provenance": [],
      "authorship_tag": "ABX9TyNwRG2fs+haQcZowxk8LRz6",
      "include_colab_link": true
    },
    "kernelspec": {
      "name": "python3",
      "display_name": "Python 3"
    },
    "widgets": {
      "application/vnd.jupyter.widget-state+json": {
        "7265d2b9f7b546dc91ffe0dccd1694ff": {
          "model_module": "@jupyter-widgets/controls",
          "model_name": "VBoxModel",
          "state": {
            "_view_name": "VBoxView",
            "_dom_classes": [
              "widget-interact"
            ],
            "_model_name": "VBoxModel",
            "_view_module": "@jupyter-widgets/controls",
            "_model_module_version": "1.5.0",
            "_view_count": null,
            "_view_module_version": "1.5.0",
            "box_style": "",
            "layout": "IPY_MODEL_e6cbdc203904492db1119f9755d1c5cc",
            "_model_module": "@jupyter-widgets/controls",
            "children": [
              "IPY_MODEL_8ffae8c65f4b4fb082337cec7770479e",
              "IPY_MODEL_b5e0a780ce44409db243649d60949a05"
            ]
          },
          "model_module_version": "1.5.0"
        },
        "e6cbdc203904492db1119f9755d1c5cc": {
          "model_module": "@jupyter-widgets/base",
          "model_name": "LayoutModel",
          "state": {
            "_view_name": "LayoutView",
            "grid_template_rows": null,
            "right": null,
            "justify_content": null,
            "_view_module": "@jupyter-widgets/base",
            "overflow": null,
            "_model_module_version": "1.2.0",
            "_view_count": null,
            "flex_flow": null,
            "width": null,
            "min_width": null,
            "border": null,
            "align_items": null,
            "bottom": null,
            "_model_module": "@jupyter-widgets/base",
            "top": null,
            "grid_column": null,
            "overflow_y": null,
            "overflow_x": null,
            "grid_auto_flow": null,
            "grid_area": null,
            "grid_template_columns": null,
            "flex": null,
            "_model_name": "LayoutModel",
            "justify_items": null,
            "grid_row": null,
            "max_height": null,
            "align_content": null,
            "visibility": null,
            "align_self": null,
            "height": null,
            "min_height": null,
            "padding": null,
            "grid_auto_rows": null,
            "grid_gap": null,
            "max_width": null,
            "order": null,
            "_view_module_version": "1.2.0",
            "grid_template_areas": null,
            "object_position": null,
            "object_fit": null,
            "grid_auto_columns": null,
            "margin": null,
            "display": null,
            "left": null
          },
          "model_module_version": "1.2.0"
        },
        "8ffae8c65f4b4fb082337cec7770479e": {
          "model_module": "@jupyter-widgets/controls",
          "model_name": "IntSliderModel",
          "state": {
            "_view_name": "IntSliderView",
            "style": "IPY_MODEL_8da03f41c21f4c799c142c26196ebbb4",
            "_dom_classes": [],
            "description": "time (sec): ",
            "step": 1,
            "_model_name": "IntSliderModel",
            "orientation": "horizontal",
            "max": 99,
            "_view_module": "@jupyter-widgets/controls",
            "_model_module_version": "1.5.0",
            "value": 0,
            "_view_count": null,
            "disabled": false,
            "_view_module_version": "1.5.0",
            "min": 0,
            "continuous_update": true,
            "readout_format": "d",
            "description_tooltip": null,
            "readout": true,
            "_model_module": "@jupyter-widgets/controls",
            "layout": "IPY_MODEL_58af3241de5342969e018499b045705c"
          },
          "model_module_version": "1.5.0"
        },
        "b5e0a780ce44409db243649d60949a05": {
          "model_module": "@jupyter-widgets/output",
          "model_name": "OutputModel",
          "state": {
            "_view_name": "OutputView",
            "msg_id": "",
            "_dom_classes": [],
            "_model_name": "OutputModel",
            "outputs": [
              {
                "output_type": "display_data",
                "metadata": {
                  "tags": [],
                  "needs_background": "light"
                },
                "image/png": "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\n",
                "text/plain": "<Figure size 720x360 with 1 Axes>"
              }
            ],
            "_view_module": "@jupyter-widgets/output",
            "_model_module_version": "1.0.0",
            "_view_count": null,
            "_view_module_version": "1.0.0",
            "layout": "IPY_MODEL_7aeb18b2ee5448ecb1652972aa814a5d",
            "_model_module": "@jupyter-widgets/output"
          },
          "model_module_version": "1.0.0"
        },
        "8da03f41c21f4c799c142c26196ebbb4": {
          "model_module": "@jupyter-widgets/controls",
          "model_name": "SliderStyleModel",
          "state": {
            "_view_name": "StyleView",
            "handle_color": null,
            "_model_name": "SliderStyleModel",
            "description_width": "",
            "_view_module": "@jupyter-widgets/base",
            "_model_module_version": "1.5.0",
            "_view_count": null,
            "_view_module_version": "1.2.0",
            "_model_module": "@jupyter-widgets/controls"
          },
          "model_module_version": "1.5.0"
        },
        "58af3241de5342969e018499b045705c": {
          "model_module": "@jupyter-widgets/base",
          "model_name": "LayoutModel",
          "state": {
            "_view_name": "LayoutView",
            "grid_template_rows": null,
            "right": null,
            "justify_content": null,
            "_view_module": "@jupyter-widgets/base",
            "overflow": null,
            "_model_module_version": "1.2.0",
            "_view_count": null,
            "flex_flow": null,
            "width": null,
            "min_width": null,
            "border": null,
            "align_items": null,
            "bottom": null,
            "_model_module": "@jupyter-widgets/base",
            "top": null,
            "grid_column": null,
            "overflow_y": null,
            "overflow_x": null,
            "grid_auto_flow": null,
            "grid_area": null,
            "grid_template_columns": null,
            "flex": null,
            "_model_name": "LayoutModel",
            "justify_items": null,
            "grid_row": null,
            "max_height": null,
            "align_content": null,
            "visibility": null,
            "align_self": null,
            "height": null,
            "min_height": null,
            "padding": null,
            "grid_auto_rows": null,
            "grid_gap": null,
            "max_width": null,
            "order": null,
            "_view_module_version": "1.2.0",
            "grid_template_areas": null,
            "object_position": null,
            "object_fit": null,
            "grid_auto_columns": null,
            "margin": null,
            "display": null,
            "left": null
          },
          "model_module_version": "1.2.0"
        },
        "7aeb18b2ee5448ecb1652972aa814a5d": {
          "model_module": "@jupyter-widgets/base",
          "model_name": "LayoutModel",
          "state": {
            "_view_name": "LayoutView",
            "grid_template_rows": null,
            "right": null,
            "justify_content": null,
            "_view_module": "@jupyter-widgets/base",
            "overflow": null,
            "_model_module_version": "1.2.0",
            "_view_count": null,
            "flex_flow": null,
            "width": null,
            "min_width": null,
            "border": null,
            "align_items": null,
            "bottom": null,
            "_model_module": "@jupyter-widgets/base",
            "top": null,
            "grid_column": null,
            "overflow_y": null,
            "overflow_x": null,
            "grid_auto_flow": null,
            "grid_area": null,
            "grid_template_columns": null,
            "flex": null,
            "_model_name": "LayoutModel",
            "justify_items": null,
            "grid_row": null,
            "max_height": null,
            "align_content": null,
            "visibility": null,
            "align_self": null,
            "height": null,
            "min_height": null,
            "padding": null,
            "grid_auto_rows": null,
            "grid_gap": null,
            "max_width": null,
            "order": null,
            "_view_module_version": "1.2.0",
            "grid_template_areas": null,
            "object_position": null,
            "object_fit": null,
            "grid_auto_columns": null,
            "margin": null,
            "display": null,
            "left": null
          },
          "model_module_version": "1.2.0"
        },
        "12dcbb1a33244ca1ba5f54b420135f83": {
          "model_module": "@jupyter-widgets/controls",
          "model_name": "VBoxModel",
          "state": {
            "_view_name": "VBoxView",
            "_dom_classes": [
              "widget-interact"
            ],
            "_model_name": "VBoxModel",
            "_view_module": "@jupyter-widgets/controls",
            "_model_module_version": "1.5.0",
            "_view_count": null,
            "_view_module_version": "1.5.0",
            "box_style": "",
            "layout": "IPY_MODEL_63ee6058e45a42af9738ce87cc9b4578",
            "_model_module": "@jupyter-widgets/controls",
            "children": [
              "IPY_MODEL_fb15c3dad5e9476a87438bf6e6edee04",
              "IPY_MODEL_c07083d286d34b47a67529b5695225d7"
            ]
          },
          "model_module_version": "1.5.0"
        },
        "63ee6058e45a42af9738ce87cc9b4578": {
          "model_module": "@jupyter-widgets/base",
          "model_name": "LayoutModel",
          "state": {
            "_view_name": "LayoutView",
            "grid_template_rows": null,
            "right": null,
            "justify_content": null,
            "_view_module": "@jupyter-widgets/base",
            "overflow": null,
            "_model_module_version": "1.2.0",
            "_view_count": null,
            "flex_flow": null,
            "width": null,
            "min_width": null,
            "border": null,
            "align_items": null,
            "bottom": null,
            "_model_module": "@jupyter-widgets/base",
            "top": null,
            "grid_column": null,
            "overflow_y": null,
            "overflow_x": null,
            "grid_auto_flow": null,
            "grid_area": null,
            "grid_template_columns": null,
            "flex": null,
            "_model_name": "LayoutModel",
            "justify_items": null,
            "grid_row": null,
            "max_height": null,
            "align_content": null,
            "visibility": null,
            "align_self": null,
            "height": null,
            "min_height": null,
            "padding": null,
            "grid_auto_rows": null,
            "grid_gap": null,
            "max_width": null,
            "order": null,
            "_view_module_version": "1.2.0",
            "grid_template_areas": null,
            "object_position": null,
            "object_fit": null,
            "grid_auto_columns": null,
            "margin": null,
            "display": null,
            "left": null
          },
          "model_module_version": "1.2.0"
        },
        "fb15c3dad5e9476a87438bf6e6edee04": {
          "model_module": "@jupyter-widgets/controls",
          "model_name": "IntSliderModel",
          "state": {
            "_view_name": "IntSliderView",
            "style": "IPY_MODEL_3daf9baa89c244af8b9657afa4849198",
            "_dom_classes": [],
            "description": "time (sec): ",
            "step": 1,
            "_model_name": "IntSliderModel",
            "orientation": "horizontal",
            "max": 99,
            "_view_module": "@jupyter-widgets/controls",
            "_model_module_version": "1.5.0",
            "value": 0,
            "_view_count": null,
            "disabled": false,
            "_view_module_version": "1.5.0",
            "min": 0,
            "continuous_update": true,
            "readout_format": "d",
            "description_tooltip": null,
            "readout": true,
            "_model_module": "@jupyter-widgets/controls",
            "layout": "IPY_MODEL_f4a5791edf30474b8303c984b8ffdb62"
          },
          "model_module_version": "1.5.0"
        },
        "c07083d286d34b47a67529b5695225d7": {
          "model_module": "@jupyter-widgets/output",
          "model_name": "OutputModel",
          "state": {
            "_view_name": "OutputView",
            "msg_id": "",
            "_dom_classes": [],
            "_model_name": "OutputModel",
            "outputs": [
              {
                "output_type": "display_data",
                "metadata": {
                  "tags": [],
                  "needs_background": "light"
                },
                "image/png": "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\n",
                "text/plain": "<Figure size 720x360 with 1 Axes>"
              }
            ],
            "_view_module": "@jupyter-widgets/output",
            "_model_module_version": "1.0.0",
            "_view_count": null,
            "_view_module_version": "1.0.0",
            "layout": "IPY_MODEL_0521842de4544fc6ad584fbf82b40738",
            "_model_module": "@jupyter-widgets/output"
          },
          "model_module_version": "1.0.0"
        },
        "3daf9baa89c244af8b9657afa4849198": {
          "model_module": "@jupyter-widgets/controls",
          "model_name": "SliderStyleModel",
          "state": {
            "_view_name": "StyleView",
            "handle_color": null,
            "_model_name": "SliderStyleModel",
            "description_width": "",
            "_view_module": "@jupyter-widgets/base",
            "_model_module_version": "1.5.0",
            "_view_count": null,
            "_view_module_version": "1.2.0",
            "_model_module": "@jupyter-widgets/controls"
          },
          "model_module_version": "1.5.0"
        },
        "f4a5791edf30474b8303c984b8ffdb62": {
          "model_module": "@jupyter-widgets/base",
          "model_name": "LayoutModel",
          "state": {
            "_view_name": "LayoutView",
            "grid_template_rows": null,
            "right": null,
            "justify_content": null,
            "_view_module": "@jupyter-widgets/base",
            "overflow": null,
            "_model_module_version": "1.2.0",
            "_view_count": null,
            "flex_flow": null,
            "width": null,
            "min_width": null,
            "border": null,
            "align_items": null,
            "bottom": null,
            "_model_module": "@jupyter-widgets/base",
            "top": null,
            "grid_column": null,
            "overflow_y": null,
            "overflow_x": null,
            "grid_auto_flow": null,
            "grid_area": null,
            "grid_template_columns": null,
            "flex": null,
            "_model_name": "LayoutModel",
            "justify_items": null,
            "grid_row": null,
            "max_height": null,
            "align_content": null,
            "visibility": null,
            "align_self": null,
            "height": null,
            "min_height": null,
            "padding": null,
            "grid_auto_rows": null,
            "grid_gap": null,
            "max_width": null,
            "order": null,
            "_view_module_version": "1.2.0",
            "grid_template_areas": null,
            "object_position": null,
            "object_fit": null,
            "grid_auto_columns": null,
            "margin": null,
            "display": null,
            "left": null
          },
          "model_module_version": "1.2.0"
        },
        "0521842de4544fc6ad584fbf82b40738": {
          "model_module": "@jupyter-widgets/base",
          "model_name": "LayoutModel",
          "state": {
            "_view_name": "LayoutView",
            "grid_template_rows": null,
            "right": null,
            "justify_content": null,
            "_view_module": "@jupyter-widgets/base",
            "overflow": null,
            "_model_module_version": "1.2.0",
            "_view_count": null,
            "flex_flow": null,
            "width": null,
            "min_width": null,
            "border": null,
            "align_items": null,
            "bottom": null,
            "_model_module": "@jupyter-widgets/base",
            "top": null,
            "grid_column": null,
            "overflow_y": null,
            "overflow_x": null,
            "grid_auto_flow": null,
            "grid_area": null,
            "grid_template_columns": null,
            "flex": null,
            "_model_name": "LayoutModel",
            "justify_items": null,
            "grid_row": null,
            "max_height": null,
            "align_content": null,
            "visibility": null,
            "align_self": null,
            "height": null,
            "min_height": null,
            "padding": null,
            "grid_auto_rows": null,
            "grid_gap": null,
            "max_width": null,
            "order": null,
            "_view_module_version": "1.2.0",
            "grid_template_areas": null,
            "object_position": null,
            "object_fit": null,
            "grid_auto_columns": null,
            "margin": null,
            "display": null,
            "left": null
          },
          "model_module_version": "1.2.0"
        },
        "78770a9ff72d41a3a0f9f79f32f34391": {
          "model_module": "@jupyter-widgets/controls",
          "model_name": "VBoxModel",
          "state": {
            "_view_name": "VBoxView",
            "_dom_classes": [
              "widget-interact"
            ],
            "_model_name": "VBoxModel",
            "_view_module": "@jupyter-widgets/controls",
            "_model_module_version": "1.5.0",
            "_view_count": null,
            "_view_module_version": "1.5.0",
            "box_style": "",
            "layout": "IPY_MODEL_17cf3daff34d4d059b4fe28b88db9e2c",
            "_model_module": "@jupyter-widgets/controls",
            "children": [
              "IPY_MODEL_eb36947b3aa3429ea54baefe680d163f",
              "IPY_MODEL_0a921f3cda194d0cae3a3793d20612c8",
              "IPY_MODEL_6b40c6452a4144c4860993c1fc10d006"
            ]
          },
          "model_module_version": "1.5.0"
        },
        "17cf3daff34d4d059b4fe28b88db9e2c": {
          "model_module": "@jupyter-widgets/base",
          "model_name": "LayoutModel",
          "state": {
            "_view_name": "LayoutView",
            "grid_template_rows": null,
            "right": null,
            "justify_content": null,
            "_view_module": "@jupyter-widgets/base",
            "overflow": null,
            "_model_module_version": "1.2.0",
            "_view_count": null,
            "flex_flow": null,
            "width": null,
            "min_width": null,
            "border": null,
            "align_items": null,
            "bottom": null,
            "_model_module": "@jupyter-widgets/base",
            "top": null,
            "grid_column": null,
            "overflow_y": null,
            "overflow_x": null,
            "grid_auto_flow": null,
            "grid_area": null,
            "grid_template_columns": null,
            "flex": null,
            "_model_name": "LayoutModel",
            "justify_items": null,
            "grid_row": null,
            "max_height": null,
            "align_content": null,
            "visibility": null,
            "align_self": null,
            "height": null,
            "min_height": null,
            "padding": null,
            "grid_auto_rows": null,
            "grid_gap": null,
            "max_width": null,
            "order": null,
            "_view_module_version": "1.2.0",
            "grid_template_areas": null,
            "object_position": null,
            "object_fit": null,
            "grid_auto_columns": null,
            "margin": null,
            "display": null,
            "left": null
          },
          "model_module_version": "1.2.0"
        },
        "eb36947b3aa3429ea54baefe680d163f": {
          "model_module": "@jupyter-widgets/controls",
          "model_name": "IntSliderModel",
          "state": {
            "_view_name": "IntSliderView",
            "style": "IPY_MODEL_bcb9765262fc4d52b65a8f9c29d456b8",
            "_dom_classes": [],
            "description": "time (sec): ",
            "step": 1,
            "_model_name": "IntSliderModel",
            "orientation": "horizontal",
            "max": 99,
            "_view_module": "@jupyter-widgets/controls",
            "_model_module_version": "1.5.0",
            "value": 0,
            "_view_count": null,
            "disabled": false,
            "_view_module_version": "1.5.0",
            "min": 0,
            "continuous_update": true,
            "readout_format": "d",
            "description_tooltip": null,
            "readout": true,
            "_model_module": "@jupyter-widgets/controls",
            "layout": "IPY_MODEL_8296943413854549ae75562af7cb96f1"
          },
          "model_module_version": "1.5.0"
        },
        "0a921f3cda194d0cae3a3793d20612c8": {
          "model_module": "@jupyter-widgets/controls",
          "model_name": "IntSliderModel",
          "state": {
            "_view_name": "IntSliderView",
            "style": "IPY_MODEL_308d2bab73194bbab348bd4f6a1acf1a",
            "_dom_classes": [],
            "description": "N terms: ",
            "step": 1,
            "_model_name": "IntSliderModel",
            "orientation": "horizontal",
            "max": 30,
            "_view_module": "@jupyter-widgets/controls",
            "_model_module_version": "1.5.0",
            "value": 1,
            "_view_count": null,
            "disabled": false,
            "_view_module_version": "1.5.0",
            "min": 1,
            "continuous_update": true,
            "readout_format": "d",
            "description_tooltip": null,
            "readout": true,
            "_model_module": "@jupyter-widgets/controls",
            "layout": "IPY_MODEL_ea8de052f34548158f7ef1ac1dcabac4"
          },
          "model_module_version": "1.5.0"
        },
        "6b40c6452a4144c4860993c1fc10d006": {
          "model_module": "@jupyter-widgets/output",
          "model_name": "OutputModel",
          "state": {
            "_view_name": "OutputView",
            "msg_id": "",
            "_dom_classes": [],
            "_model_name": "OutputModel",
            "outputs": [
              {
                "output_type": "display_data",
                "metadata": {
                  "tags": [],
                  "needs_background": "light"
                },
                "image/png": "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\n",
                "text/plain": "<Figure size 720x360 with 1 Axes>"
              }
            ],
            "_view_module": "@jupyter-widgets/output",
            "_model_module_version": "1.0.0",
            "_view_count": null,
            "_view_module_version": "1.0.0",
            "layout": "IPY_MODEL_758226b025444693904337a3beaf696a",
            "_model_module": "@jupyter-widgets/output"
          },
          "model_module_version": "1.0.0"
        },
        "bcb9765262fc4d52b65a8f9c29d456b8": {
          "model_module": "@jupyter-widgets/controls",
          "model_name": "SliderStyleModel",
          "state": {
            "_view_name": "StyleView",
            "handle_color": null,
            "_model_name": "SliderStyleModel",
            "description_width": "",
            "_view_module": "@jupyter-widgets/base",
            "_model_module_version": "1.5.0",
            "_view_count": null,
            "_view_module_version": "1.2.0",
            "_model_module": "@jupyter-widgets/controls"
          },
          "model_module_version": "1.5.0"
        },
        "8296943413854549ae75562af7cb96f1": {
          "model_module": "@jupyter-widgets/base",
          "model_name": "LayoutModel",
          "state": {
            "_view_name": "LayoutView",
            "grid_template_rows": null,
            "right": null,
            "justify_content": null,
            "_view_module": "@jupyter-widgets/base",
            "overflow": null,
            "_model_module_version": "1.2.0",
            "_view_count": null,
            "flex_flow": null,
            "width": null,
            "min_width": null,
            "border": null,
            "align_items": null,
            "bottom": null,
            "_model_module": "@jupyter-widgets/base",
            "top": null,
            "grid_column": null,
            "overflow_y": null,
            "overflow_x": null,
            "grid_auto_flow": null,
            "grid_area": null,
            "grid_template_columns": null,
            "flex": null,
            "_model_name": "LayoutModel",
            "justify_items": null,
            "grid_row": null,
            "max_height": null,
            "align_content": null,
            "visibility": null,
            "align_self": null,
            "height": null,
            "min_height": null,
            "padding": null,
            "grid_auto_rows": null,
            "grid_gap": null,
            "max_width": null,
            "order": null,
            "_view_module_version": "1.2.0",
            "grid_template_areas": null,
            "object_position": null,
            "object_fit": null,
            "grid_auto_columns": null,
            "margin": null,
            "display": null,
            "left": null
          },
          "model_module_version": "1.2.0"
        },
        "308d2bab73194bbab348bd4f6a1acf1a": {
          "model_module": "@jupyter-widgets/controls",
          "model_name": "SliderStyleModel",
          "state": {
            "_view_name": "StyleView",
            "handle_color": null,
            "_model_name": "SliderStyleModel",
            "description_width": "",
            "_view_module": "@jupyter-widgets/base",
            "_model_module_version": "1.5.0",
            "_view_count": null,
            "_view_module_version": "1.2.0",
            "_model_module": "@jupyter-widgets/controls"
          },
          "model_module_version": "1.5.0"
        },
        "ea8de052f34548158f7ef1ac1dcabac4": {
          "model_module": "@jupyter-widgets/base",
          "model_name": "LayoutModel",
          "state": {
            "_view_name": "LayoutView",
            "grid_template_rows": null,
            "right": null,
            "justify_content": null,
            "_view_module": "@jupyter-widgets/base",
            "overflow": null,
            "_model_module_version": "1.2.0",
            "_view_count": null,
            "flex_flow": null,
            "width": null,
            "min_width": null,
            "border": null,
            "align_items": null,
            "bottom": null,
            "_model_module": "@jupyter-widgets/base",
            "top": null,
            "grid_column": null,
            "overflow_y": null,
            "overflow_x": null,
            "grid_auto_flow": null,
            "grid_area": null,
            "grid_template_columns": null,
            "flex": null,
            "_model_name": "LayoutModel",
            "justify_items": null,
            "grid_row": null,
            "max_height": null,
            "align_content": null,
            "visibility": null,
            "align_self": null,
            "height": null,
            "min_height": null,
            "padding": null,
            "grid_auto_rows": null,
            "grid_gap": null,
            "max_width": null,
            "order": null,
            "_view_module_version": "1.2.0",
            "grid_template_areas": null,
            "object_position": null,
            "object_fit": null,
            "grid_auto_columns": null,
            "margin": null,
            "display": null,
            "left": null
          },
          "model_module_version": "1.2.0"
        },
        "758226b025444693904337a3beaf696a": {
          "model_module": "@jupyter-widgets/base",
          "model_name": "LayoutModel",
          "state": {
            "_view_name": "LayoutView",
            "grid_template_rows": null,
            "right": null,
            "justify_content": null,
            "_view_module": "@jupyter-widgets/base",
            "overflow": null,
            "_model_module_version": "1.2.0",
            "_view_count": null,
            "flex_flow": null,
            "width": null,
            "min_width": null,
            "border": null,
            "align_items": null,
            "bottom": null,
            "_model_module": "@jupyter-widgets/base",
            "top": null,
            "grid_column": null,
            "overflow_y": null,
            "overflow_x": null,
            "grid_auto_flow": null,
            "grid_area": null,
            "grid_template_columns": null,
            "flex": null,
            "_model_name": "LayoutModel",
            "justify_items": null,
            "grid_row": null,
            "max_height": null,
            "align_content": null,
            "visibility": null,
            "align_self": null,
            "height": null,
            "min_height": null,
            "padding": null,
            "grid_auto_rows": null,
            "grid_gap": null,
            "max_width": null,
            "order": null,
            "_view_module_version": "1.2.0",
            "grid_template_areas": null,
            "object_position": null,
            "object_fit": null,
            "grid_auto_columns": null,
            "margin": null,
            "display": null,
            "left": null
          },
          "model_module_version": "1.2.0"
        }
      }
    }
  },
  "cells": [
    {
      "cell_type": "markdown",
      "metadata": {
        "id": "view-in-github",
        "colab_type": "text"
      },
      "source": [
        "<a href=\"https://colab.research.google.com/github/licciard/lu-phys3466/blob/main/quiz_4_solution.ipynb\" target=\"_parent\"><img src=\"https://colab.research.google.com/assets/colab-badge.svg\" alt=\"Open In Colab\"/></a>"
      ]
    },
    {
      "cell_type": "markdown",
      "metadata": {
        "id": "g_XPhtEoiChF"
      },
      "source": [
        "**This notebook is based on Question 2 from the Final Exam - Winter 2018**\n"
      ]
    },
    {
      "cell_type": "markdown",
      "metadata": {
        "id": "GLNf3nS1i2WT"
      },
      "source": [
        "\"A very long and narrow pipe is filled with water. At time $t=0$, a quantity of salt (of density $\\rho_s$) is introduced into the pipe at some point $x_0$ (remote from both ends of the pipe). We wish to find the concentration of salt at any later time.\"\n",
        "\n",
        "In principle, we can idealize this physical problem by assuming an infinitely long pipe. However, in this notebook we want to visualize a  numerical solution for the problem and so we have to limit the boundaries at some point. In this notebook we explore this fact to solve the problem using two different approaches: Fourier series and Fourier transform.\n",
        "\n",
        "\"Since the pipe is narrow, the variations of concentration of salt over a cross section of the pipe may be neglected and the concentration can be treated as a function of two variables only, $x$ and $t$. The evolution of the density $\\rho(x,t)$ at any point $x$ is given by the one-dimensional diffusion equation:\n",
        "$$\\frac{\\partial \\rho}{\\partial t} = D \\frac{\\partial^2 \\rho}{\\partial x^2}\\;,$$ \n",
        "where $D$ is a diffusion coefficient of the salt.\"\n",
        "\n",
        "The initial condition of this problem is given by $\\rho(x,0) = \\rho_0(x)$, where we take $$\\rho_0(x) = \\frac{100~\\text{g}}{\\sigma \\sqrt{2 \\pi}} e^{-\\frac{(x-x_0)^2}{2\\sigma}}\\;.$$ \n",
        "We consider the salt is completely dissolved at the boundaries\n",
        "$$\\rho(x_\\pm,t) = 0$$\n",
        "where $x_\\pm$ are the boundaries: $x_{-} =0$ and $x_{+} = L$. In the limit,\n",
        "these conditions may be formulate by the statement\n",
        "$$\\lim_{x_\\pm \\rightarrow \\pm \\infty} \\rho(x,t) = 0\\;. $$"
      ]
    },
    {
      "cell_type": "code",
      "metadata": {
        "id": "v3kISQvsh-jL"
      },
      "source": [
        "# Python modules used in this notebook\n",
        "import numpy as np\n",
        "import scipy.stats\n",
        "import matplotlib.pyplot as plt\n",
        "import matplotlib.cm as cm\n",
        "from ipywidgets import interact, IntSlider"
      ],
      "execution_count": null,
      "outputs": []
    },
    {
      "cell_type": "markdown",
      "metadata": {
        "id": "LDF8psFBAgif"
      },
      "source": [
        "We will re-use the functions introduced in the first notebook to solve the Heat Equation. "
      ]
    },
    {
      "cell_type": "markdown",
      "metadata": {
        "id": "mwqAhIApm_Z5"
      },
      "source": [
        "The PDE solver utilizes a method that fails if the following condition is not satisfied: $$ D \\frac{\\Delta t}{(\\Delta x)^2} \\simeq 1\\;.$$\n",
        "\n",
        "*   The infinitely long pipe is taken at $L = 100$ m, with the salt initially placed at $x_0 = 50$ m and width $\\sigma = 4$ m.\n",
        "*   The diffusion coefficient set to $D = 0.5$ m$^{2}$/s.\n",
        "*   We will consider solutions up to $t = 100$ s, after the boundary condition starts to fail.\n"
      ]
    },
    {
      "cell_type": "code",
      "metadata": {
        "id": "pFdgzMBFm--E"
      },
      "source": [
        "Dcoef = 0.5 # m^2/s\n",
        "xlength = 100 # m\n",
        "x0 = xlength / 2\n",
        "width = 4 # m\n",
        "tmax = 100 # sec\n",
        "nsteps_time = 10001 \n",
        "nsteps_x = 101 \n",
        "\n",
        "time_step = tmax//nsteps_time"
      ],
      "execution_count": null,
      "outputs": []
    },
    {
      "cell_type": "markdown",
      "metadata": {
        "id": "hxzseSt4CrHr"
      },
      "source": [
        "**Question 1. Adjust the code below to draw a Gaussian centered at $x_0$ and $\\sigma$.**"
      ]
    },
    {
      "cell_type": "code",
      "metadata": {
        "colab": {
          "base_uri": "https://localhost:8080/",
          "height": 282
        },
        "id": "v14zVlW0CndR",
        "outputId": "c916c0c9-f0bf-47e1-a3cb-55e94cf2b846"
      },
      "source": [
        "mean = x0 # in m\n",
        "standard_deviation = width # in m\n",
        "\n",
        "x_values = np.arange(0, 100, 1)\n",
        "init_gauss = scipy.stats.norm(mean, standard_deviation)\n",
        "plt.plot(x_values, init_gauss.pdf(x_values))"
      ],
      "execution_count": null,
      "outputs": [
        {
          "output_type": "execute_result",
          "data": {
            "text/plain": [
              "[<matplotlib.lines.Line2D at 0x7fbdd3336d90>]"
            ]
          },
          "metadata": {
            "tags": []
          },
          "execution_count": 3
        },
        {
          "output_type": "display_data",
          "data": {
            "image/png": "[encoded data removed]",
            "text/plain": [
              "<Figure size 432x288 with 1 Axes>"
            ]
          },
          "metadata": {
            "tags": [],
            "needs_background": "light"
          }
        }
      ]
    },
    {
      "cell_type": "markdown",
      "metadata": {
        "id": "z35qEtn9mgxm"
      },
      "source": [
        "**Question 2. Fill the boundary conditions and initial conditions for this problem.**"
      ]
    },
    {
      "cell_type": "code",
      "metadata": {
        "id": "d_FPlXfRinDb"
      },
      "source": [
        "# PDE solver for the 1D Heat Equation\n",
        "\n",
        "def diffusion_equation(Dcoef, xmax, tmax, nt, nx):\n",
        "   \"\"\"\n",
        "   Returns the salt density and corresponding x positions for 1D diffusion\n",
        "   \"\"\"\n",
        "   # Increments\n",
        "   dt = tmax/(nt-1)\n",
        "   dx = xmax/(nx-1)\n",
        "\n",
        "   # Initialise data structures\n",
        "\n",
        "   temp = np.zeros((nx,nt))\n",
        "   x = np.zeros(nx)\n",
        "\n",
        "   # *** Fill the boundary conditions *** \n",
        "   temp[0,:] = 0 # <-- at x = 0\n",
        "   temp[nx-1,:] = 0 # <-- at X = L\n",
        "\n",
        "   # *** Fill the initial conditions ***\n",
        "   for i in range(nx):\n",
        "      temp[i,0] = init_gauss.pdf(i)*100 #25 #  <-- constant temperature at t = 0 for all x \n",
        "\n",
        "   # Loop\n",
        "   for n in range(nt-1):\n",
        "      for i in range(1,nx-1):\n",
        "         temp[i,n+1] = temp[i,n] + Dcoef*(dt/dx**2.0)*(temp[i+1,n]-2.0*temp[i,n]+temp[i-1,n])\n",
        "\n",
        "   # X Loop\n",
        "   for i in range(nx):\n",
        "      x[i] = i*dx\n",
        "\n",
        "   return temp, x"
      ],
      "execution_count": null,
      "outputs": []
    },
    {
      "cell_type": "markdown",
      "metadata": {
        "id": "r2o6tybHokOj"
      },
      "source": [
        "**Question 3. Run the PDE solver and plot the solution. Visualize the time evolution. Does it make sense for you? Explain why.**"
      ]
    },
    {
      "cell_type": "code",
      "metadata": {
        "id": "umFlQ7OGCBnf"
      },
      "source": [
        "density,xpos = diffusion_equation(Dcoef,xlength,tmax,nsteps_time,nsteps_x)"
      ],
      "execution_count": null,
      "outputs": []
    },
    {
      "cell_type": "code",
      "metadata": {
        "colab": {
          "base_uri": "https://localhost:8080/",
          "height": 366,
          "referenced_widgets": [
            "7265d2b9f7b546dc91ffe0dccd1694ff",
            "e6cbdc203904492db1119f9755d1c5cc",
            "8ffae8c65f4b4fb082337cec7770479e",
            "b5e0a780ce44409db243649d60949a05",
            "8da03f41c21f4c799c142c26196ebbb4",
            "58af3241de5342969e018499b045705c",
            "7aeb18b2ee5448ecb1652972aa814a5d"
          ]
        },
        "id": "GzjuuUeqlQXt",
        "outputId": "76209ec7-135e-4cbd-d29d-9b406a25e786"
      },
      "source": [
        "def plot_temperature(t):\n",
        "  plt.figure(figsize=(10,5))\n",
        "  plt.plot(xpos,density[:,t*nsteps_time//tmax],c='b')\n",
        "  plt.xlabel('x (m)'); plt.ylabel('Density (g/m)');\n",
        "  plt.ylim([0,12.5])\n",
        "  plt.show()\n",
        "\n",
        "interact(plot_temperature,t = IntSlider(min=0, max=tmax-1, step=1, value=0, description='time (sec): '));"
      ],
      "execution_count": null,
      "outputs": [
        {
          "output_type": "display_data",
          "data": {
            "application/vnd.jupyter.widget-view+json": {
              "model_id": "7265d2b9f7b546dc91ffe0dccd1694ff",
              "version_minor": 0,
              "version_major": 2
            },
            "text/plain": [
              "interactive(children=(IntSlider(value=0, description='time (sec): ', max=99), Output()), _dom_classes=('widget…"
            ]
          },
          "metadata": {
            "tags": []
          }
        }
      ]
    },
    {
      "cell_type": "markdown",
      "metadata": {
        "id": "N5OVCdMLFhGk"
      },
      "source": [
        "**Question 4. Use the Fourier transform to solve the problem, by hand - not using FFT. *(Refer to the Test Collection for similar problems.)* The solution is the convolution of two Gaussians.**\n",
        "\n",
        "You should already know what is the result in this case. What is standard deviation of the convolution of two Gaussians with variances: $\\sigma^2$ and $2 D t$? Use the result in the function below and compare the numerical solution with the Fourier transform."
      ]
    },
    {
      "cell_type": "code",
      "metadata": {
        "id": "rV6YHQpKT422"
      },
      "source": [
        "# Fourier transform\n",
        "def fourier_transform_solution(t,x):\n",
        "  sol_gauss = scipy.stats.norm(x0, np.sqrt(width**2+(2*Dcoef*t)))\n",
        "  return sol_gauss.pdf(x)*100"
      ],
      "execution_count": null,
      "outputs": []
    },
    {
      "cell_type": "code",
      "metadata": {
        "colab": {
          "base_uri": "https://localhost:8080/",
          "height": 366,
          "referenced_widgets": [
            "12dcbb1a33244ca1ba5f54b420135f83",
            "63ee6058e45a42af9738ce87cc9b4578",
            "fb15c3dad5e9476a87438bf6e6edee04",
            "c07083d286d34b47a67529b5695225d7",
            "3daf9baa89c244af8b9657afa4849198",
            "f4a5791edf30474b8303c984b8ffdb62",
            "0521842de4544fc6ad584fbf82b40738"
          ]
        },
        "id": "ib1l6kzUU79d",
        "outputId": "7764e4bb-1292-4064-d70b-727daef1dd8d"
      },
      "source": [
        "def plot_transform(t):\n",
        "  plt.figure(figsize=(10,5))\n",
        "  plt.plot(xpos,density[:,t*nsteps_time//tmax],'b-')\n",
        "  plt.plot(xpos,fourier_transform_solution(t,xpos),'g.')\n",
        "  plt.xlabel('x (m)'); plt.ylabel('Density (g/m)');\n",
        "  plt.ylim([0,12.5])\n",
        "  plt.show()\n",
        "\n",
        "interact(plot_transform,t = IntSlider(min=0, max=tmax-1, step=1, value=0, description='time (sec): '));"
      ],
      "execution_count": null,
      "outputs": [
        {
          "output_type": "display_data",
          "data": {
            "application/vnd.jupyter.widget-view+json": {
              "model_id": "12dcbb1a33244ca1ba5f54b420135f83",
              "version_minor": 0,
              "version_major": 2
            },
            "text/plain": [
              "interactive(children=(IntSlider(value=0, description='time (sec): ', max=99), Output()), _dom_classes=('widget…"
            ]
          },
          "metadata": {
            "tags": []
          }
        }
      ]
    },
    {
      "cell_type": "markdown",
      "metadata": {
        "id": "5rziNgne1jpr"
      },
      "source": [
        "We want to compare these solutions to one obtained using Fourier series since the domain is actually bounded at $x=0$ and $x=100$ m. \n",
        "\n",
        "\n",
        "**Question 5. Following in a similar manner to the Heat Equation, find the Fourier coefficients for a truncated Gaussian.**\n",
        "\n",
        "Hint: There is a math tricky to simplify your work that will avoid all your integral calculations. Calculate both $a_n$ and $b_n$ simultaneously by taking the real and imaginary parts of $e^{i n \\pi x /L}$. For the integral that needs to be performed:\n",
        "$$a_n - i b_n = \\int_{x_- = 0}^{x_+ = L} \\rho_0(x) e^{- i \\omega x} dx$$\n",
        "assume $L$ is very very long $\\Rightarrow x_- \\rightarrow -\\infty$ and $x_+ \\rightarrow +\\infty$. This way we you find a Fourier transform of a Gaussian, where $\\omega = n \\pi/L$, which you already know the answer as well. Simply substitute the value of $\\omega$ in terms of $n$ and find the Fourier coefficients. \n",
        "\n",
        "**Fill the solution below with the correct Fourier coefficients and compare the solutions for different times and values of $N$, the number of terms in the Fourier series.**"
      ]
    },
    {
      "cell_type": "code",
      "metadata": {
        "id": "-nvnjY5Vs7dp"
      },
      "source": [
        "# Fourier series solution for T(t,x) with n terms in the series\n",
        "def fourier_solution(t,x,n_terms):\n",
        "  a_0 = 1 \n",
        "  dens = a_0/2 \n",
        "  for n in range(1,n_terms+1):\n",
        "    a_n = np.cos(n*np.pi/2)*np.exp(-0.5*(n*np.pi/25)**2)\n",
        "    b_n = np.sin(n*np.pi/2)*np.exp(-0.5*(n*np.pi/25)**2)\n",
        "    dens += (a_n * np.cos(n*np.pi*x/xlength) + b_n * np.sin(n*np.pi*x/xlength))*np.exp(-Dcoef * (n*np.pi/xlength)**2 * t)\n",
        "  return dens\n"
      ],
      "execution_count": null,
      "outputs": []
    },
    {
      "cell_type": "code",
      "metadata": {
        "colab": {
          "base_uri": "https://localhost:8080/",
          "height": 398,
          "referenced_widgets": [
            "78770a9ff72d41a3a0f9f79f32f34391",
            "17cf3daff34d4d059b4fe28b88db9e2c",
            "eb36947b3aa3429ea54baefe680d163f",
            "0a921f3cda194d0cae3a3793d20612c8",
            "6b40c6452a4144c4860993c1fc10d006",
            "bcb9765262fc4d52b65a8f9c29d456b8",
            "8296943413854549ae75562af7cb96f1",
            "308d2bab73194bbab348bd4f6a1acf1a",
            "ea8de052f34548158f7ef1ac1dcabac4",
            "758226b025444693904337a3beaf696a"
          ]
        },
        "id": "1OGiQmy8VVTg",
        "outputId": "74891514-b098-4eda-bdec-d650238703b2"
      },
      "source": [
        "def plot_comparison(t,nterms):\n",
        "  plt.figure(figsize=(10,5))\n",
        "  plt.plot(xpos,density[:,t*nsteps_time//tmax],'b-')\n",
        "  plt.plot(xpos,fourier_solution(t,xpos,nterms),'r')\n",
        "  plt.plot(xpos,fourier_transform_solution(t,xpos),'g.')\n",
        "  plt.xlabel('x (m)'); plt.ylabel('Density (g/m)');\n",
        "  plt.ylim([0,12.5])\n",
        "  plt.show()  \n",
        "\n",
        "interact(plot_comparison,\n",
        "         t = IntSlider(min=0, max=tmax-1, step=1, value=0, description='time (sec): '),\n",
        "         nterms = IntSlider(min=1, max=30, step=1, value=1, description='N terms: '));"
      ],
      "execution_count": null,
      "outputs": [
        {
          "output_type": "display_data",
          "data": {
            "application/vnd.jupyter.widget-view+json": {
              "model_id": "78770a9ff72d41a3a0f9f79f32f34391",
              "version_minor": 0,
              "version_major": 2
            },
            "text/plain": [
              "interactive(children=(IntSlider(value=0, description='time (sec): ', max=99), IntSlider(value=1, description='…"
            ]
          },
          "metadata": {
            "tags": []
          }
        }
      ]
    },
    {
      "cell_type": "markdown",
      "metadata": {
        "id": "5JfsHgCgKDVJ"
      },
      "source": [
        "**Question 6. Based on the comparison above, is there a time where only one term in the Fourier series is sufficient to describe the solution? At $t=99$ s, what is the minimum number of terms $N$ that approximates the solution reasonably well?** "
      ]
    }
  ]
}