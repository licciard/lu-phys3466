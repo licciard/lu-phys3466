{
  "nbformat": 4,
  "nbformat_minor": 0,
  "metadata": {
    "colab": {
      "name": "fourier_series_2_heat_equation",
      "provenance": [],
      "authorship_tag": "ABX9TyPTNNyLytdUa6WIcjp4P2tw",
      "include_colab_link": true
    },
    "kernelspec": {
      "name": "python3",
      "display_name": "Python 3"
    }
  },
  "cells": [
    {
      "cell_type": "markdown",
      "metadata": {
        "id": "view-in-github",
        "colab_type": "text"
      },
      "source": [
        "<a href=\"https://colab.research.google.com/github/licciard/lu-phys3466/blob/main/fourier_series_2_heat_equation.ipynb\" target=\"_parent\"><img src=\"https://colab.research.google.com/assets/colab-badge.svg\" alt=\"Open In Colab\"/></a>"
      ]
    },
    {
      "cell_type": "markdown",
      "metadata": {
        "id": "g_XPhtEoiChF"
      },
      "source": [
        "**In this exercise we will look at the solution of the 1D Heat Equation proposed in class.**\n"
      ]
    },
    {
      "cell_type": "markdown",
      "metadata": {
        "id": "GLNf3nS1i2WT"
      },
      "source": [
        "\"Suppose we have an one-dimensional rod of length $L$ at initial temperature $T(0,x) = T_0$. We want to cool this rod by connecting both end to a cooler kept at zero Celsius: $T(t,0)=T(t,L)=0^\\circ$C. The heat evolution equation for the rod is:\n",
        "$$\\frac{\\partial}{\\partial t} T(t,x) = \\kappa^2 \\frac{\\partial^2}{\\partial x^2} T(t,x) \\;,$$\n",
        "with $\\kappa^2 = K_0 / (\\rho c)$, where $K_0$ is the rod's thermal conductivity, $\\rho$ its density, and $c$ the specific heat.\""
      ]
    },
    {
      "cell_type": "code",
      "metadata": {
        "id": "v3kISQvsh-jL"
      },
      "source": [
        "# Python modules used in this notebook\n",
        "import numpy as np\n",
        "import matplotlib.pyplot as plt\n",
        "import matplotlib.cm as cm\n",
        "from ipywidgets import interact, IntSlider"
      ],
      "execution_count": null,
      "outputs": []
    },
    {
      "cell_type": "markdown",
      "metadata": {
        "id": "dIyHk3j5jGBt"
      },
      "source": [
        "We focus on the numerical solution for the temperature evolution in a copper rod of length $L=100$ cm and heat coefficient $\\kappa^2 = 1.1$ cm$^{2}$/s. "
      ]
    },
    {
      "cell_type": "markdown",
      "metadata": {
        "id": "frATUG8Xj6Co"
      },
      "source": [
        "The algorithm to solve the PDE numerically is a very simple differencing method extracted from: \n",
        "*http://www.thevisualroom.com/diffusion.html*"
      ]
    },
    {
      "cell_type": "markdown",
      "metadata": {
        "id": "XbzE4XbGlqqA"
      },
      "source": [
        "The function below \"heat_equation\" takes in five arguments:\n",
        "\n",
        "*   kappa: $\\kappa^2$ is the heat coefficient \n",
        "*   tmax: maximum time to evaluate the temperature\n",
        "*   xmax: the length of the rod $L$ \n",
        "*   nt: number of time steps\n",
        "*   nx: number of distance steps\n"
      ]
    },
    {
      "cell_type": "markdown",
      "metadata": {
        "id": "z35qEtn9mgxm"
      },
      "source": [
        "**Activity 1. You have to directly include the initial and boundary conditions.**"
      ]
    },
    {
      "cell_type": "code",
      "metadata": {
        "id": "d_FPlXfRinDb"
      },
      "source": [
        "# PDE solver for the 1D Heat Equation\n",
        "\n",
        "def heat_equation(kappa, xmax, tmax, nt, nx):\n",
        "   \"\"\"\n",
        "   Returns the velocity field and distance for 1D linear convection\n",
        "   \"\"\"\n",
        "   # Increments\n",
        "   dt = tmax/(nt-1)\n",
        "   dx = xmax/(nx-1)\n",
        "\n",
        "   # Initialise data structures \n",
        "   temp = np.zeros((nx,nt))\n",
        "   x = np.zeros(nx)\n",
        "\n",
        "   ##### THIS IS THE BLOCK YOU NEED TO ADD THE BOUNDARY CONDITIONS #####\n",
        "   # *** Fill the boundary conditions *** \n",
        "   temp[0,:] = ? # <-- at x = 0\n",
        "   temp[nx-1,:] = ? # <-- at X = L\n",
        "\n",
        "   # *** Fill the initial conditions ***\n",
        "   for i in range(nx):\n",
        "      temp[i,0] = ? #  <-- constant temperature at t = 0 for all x \n",
        "   #####################################################################\n",
        "\n",
        "   # Loop\n",
        "   for n in range(nt-1):\n",
        "      for i in range(1,nx-1):\n",
        "         temp[i,n+1] = temp[i,n] + kappa*(dt/dx**2.0)*(temp[i+1,n]-2.0*temp[i,n]+temp[i-1,n])\n",
        "\n",
        "   # X Loop\n",
        "   for i in range(nx):\n",
        "      x[i] = i*dx\n",
        "\n",
        "   return temp, x"
      ],
      "execution_count": null,
      "outputs": []
    },
    {
      "cell_type": "markdown",
      "metadata": {
        "id": "mwqAhIApm_Z5"
      },
      "source": [
        "The PDE solver utilizes a method that fails if the following condition is not satisfied: $$ \\kappa^2 \\frac{\\Delta t}{(\\Delta x)^2} \\simeq 1\\;.$$\n",
        "\n",
        "A characteristic time for this system is: $$ t_0 = \\frac{L^2}{8 \\kappa^2 \\pi^2} \\simeq 1.5~\\text{min}\\;.$$ \n",
        "\n",
        "(You should verify this by completing the exercise proposed in class.)\n"
      ]
    },
    {
      "cell_type": "markdown",
      "metadata": {
        "id": "r2o6tybHokOj"
      },
      "source": [
        "**Activity 2. Run the PDE solver using $t_{max} \\simeq 3\\times t_0$ and $\\Delta x \\simeq 1$ cm, and choose appropriate values for the other parameters.**"
      ]
    },
    {
      "cell_type": "code",
      "metadata": {
        "id": "pFdgzMBFm--E"
      },
      "source": [
        "# Fill the parameters below\n",
        "kappa = ? # cm^2/s\n",
        "xlength = ? # cm\n",
        "tmax = ? # sec\n",
        "nsteps_time = ?  \n",
        "nsteps_x = ? \n",
        "\n",
        "# Do not change the next two lines\n",
        "time_step = tmax//nsteps_time\n",
        "T,xpos = heat_equation(kappa,xlength,tmax,nsteps_time,nsteps_x)"
      ],
      "execution_count": null,
      "outputs": []
    },
    {
      "cell_type": "markdown",
      "metadata": {
        "id": "P7BnrGytpVMr"
      },
      "source": [
        "The function below plots the $T$ vs $x$ for any time between 0 and your choice of $t_{max}$. \n",
        "\n"
      ]
    },
    {
      "cell_type": "markdown",
      "metadata": {
        "id": "XwxldO2w2US3"
      },
      "source": [
        "\n",
        "**Activity 3. Play with the time slides and note how the function corresponds with our expectations for increasing time.**\n"
      ]
    },
    {
      "cell_type": "code",
      "metadata": {
        "id": "GzjuuUeqlQXt"
      },
      "source": [
        "# Function to plot the numerical solution of the temperature\n",
        "# The next few lines are the complete code\n",
        "def plot_temperature(t):\n",
        "  plt.figure(figsize=(10,5))\n",
        "  plt.plot(xpos,T[:,t*nsteps_time//tmax],c='b')\n",
        "  plt.xlabel('x (cm)'); plt.ylabel('T (oC)');\n",
        "  plt.ylim([0,27.5])\n",
        "  plt.show()\n",
        "\n",
        "interact(plot_temperature,t = IntSlider(min=0, max=tmax-1, step=1, value=0, description='time (sec): '));"
      ],
      "execution_count": null,
      "outputs": []
    },
    {
      "cell_type": "markdown",
      "metadata": {
        "id": "5rziNgne1jpr"
      },
      "source": [
        "We want to compare this numerical solution to our solution using Fourier series. \n",
        "\n",
        "\n",
        "**Activity 4. Fill the function \"fourier_solution\" with the Fourier coefficients we found in class.**\n",
        "\n",
        "Note that $n$ here can take odd and even values. Since we found that $b_n=0$ if $n$ is even, this part is already filled as example. The else condition then already understands $n$ is odd, so you do not have to use the notation $2n-1$ to indicate an odd number."
      ]
    },
    {
      "cell_type": "code",
      "metadata": {
        "id": "-nvnjY5Vs7dp"
      },
      "source": [
        "# Fourier series solution for T(t,x) with n terms in the series\n",
        "def fourier_solution(t,x,n_terms):\n",
        "  a_0 = 0\n",
        "  temp = a_0/2\n",
        "  for n in range(1,n_terms+1):\n",
        "    a_n = ? # <-- Fill with the expression for a_n terms\n",
        "    if n%2 == 0:\n",
        "      b_n = 0\n",
        "    else:\n",
        "      b_n = ? # <-- Fill with the expression for b_n terms assuming n is an odd number\n",
        "    temp += (a_n * np.cos(n*np.pi*x/xlength) + b_n * np.sin(n*np.pi*x/xlength))*np.exp(-kappa * (n*np.pi/xlength)**2 * t)\n",
        "  return temp\n"
      ],
      "execution_count": null,
      "outputs": []
    },
    {
      "cell_type": "markdown",
      "metadata": {
        "id": "wF_cbRbi4JBr"
      },
      "source": [
        "**Activity 5. Plot the Fourier series solution and vary the number $N$ of terms.**\n",
        "\n",
        "Why does the function look the same for $N=1$ and $N=2$? And $n=3$ and $n=4$? And so on..."
      ]
    },
    {
      "cell_type": "code",
      "metadata": {
        "id": "8echfra3wgHN"
      },
      "source": [
        "def plot_fourier(t,nterms):\n",
        "  plt.figure(figsize=(10,5))\n",
        "  plt.plot(xpos,fourier_solution(t,xpos,nterms),c='r')\n",
        "  plt.xlabel('x (cm)'); plt.ylabel('T (oC)');\n",
        "  plt.ylim([0,32.5])\n",
        "  plt.show()\n",
        "\n",
        "interact(plot_fourier,\n",
        "         t = IntSlider(min=0, max=tmax-1, step=1, value=0, description='time (sec): '),\n",
        "         nterms = IntSlider(min=1, max=30, step=1, value=1, description='N terms: '));"
      ],
      "execution_count": null,
      "outputs": []
    },
    {
      "cell_type": "markdown",
      "metadata": {
        "id": "z42tJ-ms3Y04"
      },
      "source": [
        "**Activity 6. You can now plot the numerical solution versus the Fourier solution for various times $t$ and $N$ terms in the series.** \n",
        "\n",
        "Make notes of how well the series approximate the solution and how this connects with the characteristic time $t_0$."
      ]
    },
    {
      "cell_type": "code",
      "metadata": {
        "id": "O3vkJyZ1xP53"
      },
      "source": [
        "def plot_comparison(t,nterms):\n",
        "  plt.figure(figsize=(10,5))\n",
        "  plt.plot(xpos,T[:,t*nsteps_time//tmax],c='b')\n",
        "  plt.plot(xpos,fourier_solution(t,xpos,nterms),c='r')\n",
        "  plt.xlabel('x (cm)'); plt.ylabel('T (oC)');\n",
        "  plt.ylim([0,32.5])\n",
        "  plt.show()  \n",
        "\n",
        "interact(plot_comparison,\n",
        "         t = IntSlider(min=0, max=tmax-1, step=1, value=0, description='time (sec): '),\n",
        "         nterms = IntSlider(min=1, max=30, step=1, value=1, description='N terms: '));"
      ],
      "execution_count": null,
      "outputs": []
    },
    {
      "cell_type": "markdown",
      "metadata": {
        "id": "obNLf9cq3x_E"
      },
      "source": [
        "**Activity 7 - Challenge: for $t=1$s and $N=1$, where does the Fourier series most differ from the numerical solution? How about $t=10$s, $t=60$s, and so on? Is it the same place where it differs most for $N=3$ in these times? Write a function that calculates the maximum difference for each time for $N=1$ and then plot this for all times. Then repeat the exercise for $N=3$, $N=5$ and $N=7$. Plot all these differences as a function of time in the same graph with different colours. How does that connect with $t_0$?**"
      ]
    },
    {
      "cell_type": "code",
      "metadata": {
        "id": "-obepyPczSu8"
      },
      "source": [
        "# Challenge problem"
      ],
      "execution_count": null,
      "outputs": []
    }
  ]
}